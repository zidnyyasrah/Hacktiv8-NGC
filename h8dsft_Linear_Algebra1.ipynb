{
 "cells": [
  {
   "attachments": {},
   "cell_type": "markdown",
   "metadata": {},
   "source": [
    "# **Non-Graded Challenge - Linear Algebra**"
   ]
  },
  {
   "attachments": {},
   "cell_type": "markdown",
   "metadata": {},
   "source": [
    "## Assignment Instructions"
   ]
  },
  {
   "attachments": {},
   "cell_type": "markdown",
   "metadata": {},
   "source": [
    "* Membuat vector dengan python\n",
    "* Diberikan 3 buah vector 3 dimensi A,B,C. Hitunglah A+B, B-C, A dot C, AxB, normA, sudut antar vektor A dan B"
   ]
  },
  {
   "attachments": {},
   "cell_type": "markdown",
   "metadata": {},
   "source": [
    "## Import Library"
   ]
  },
  {
   "cell_type": "code",
   "execution_count": 13,
   "metadata": {},
   "outputs": [],
   "source": [
    "import numpy as np\n",
    "import matplotlib.pyplot as plt"
   ]
  },
  {
   "attachments": {},
   "cell_type": "markdown",
   "metadata": {},
   "source": [
    "### Problem Pertama\n",
    "\n",
    "Membuat Vector dengan python"
   ]
  },
  {
   "cell_type": "code",
   "execution_count": 3,
   "metadata": {},
   "outputs": [
    {
     "name": "stdout",
     "output_type": "stream",
     "text": [
      "[17 22 19]\n"
     ]
    }
   ],
   "source": [
    "# Membuat list untuk menampung value dari vector\n",
    "a = [17, 22, 19]\n",
    "\n",
    "# Konversi list menjadi array dengan numpy\n",
    "vect = np.array(a)\n",
    "\n",
    "# Menampilkan vector\n",
    "print(vect)"
   ]
  },
  {
   "attachments": {},
   "cell_type": "markdown",
   "metadata": {},
   "source": [
    "### Problem kedua\n",
    "\n",
    "Operasi antara 3 buah vector 3 dimensi"
   ]
  },
  {
   "cell_type": "code",
   "execution_count": 12,
   "metadata": {},
   "outputs": [
    {
     "name": "stdout",
     "output_type": "stream",
     "text": [
      "Hasil A + B :  [27 42 30]\n",
      "Hasil B - C :  [5 8 2]\n",
      "Hasil A dot B :  520\n",
      "Hasil norm A :  33.67491648096547\n",
      "Sudut antara vektor A dan B :  12.588900662180242\n"
     ]
    }
   ],
   "source": [
    "# Membuat list untuk menampung value dari vector yang akan dibuat\n",
    "A = [17, 22, 19]\n",
    "B = [10, 20, 11]\n",
    "C = [5, 12, 9]\n",
    "\n",
    "# Konversi list menjadi array dengan numpy\n",
    "vect_A = np.array(A)\n",
    "vect_B = np.array(B)\n",
    "vect_C = np.array(C)\n",
    "\n",
    "# Hitung A + B\n",
    "print('Hasil A + B : ', vect_A + vect_B)\n",
    "\n",
    "# Hitung B - C\n",
    "print('Hasil B - C : ', vect_B - vect_C)\n",
    "\n",
    "# Hitung A dot C\n",
    "print('Hasil A dot B : ', vect_A @ vect_C)\n",
    "\n",
    "# Hitung norm A\n",
    "print('Hasil norm A : ', np.linalg.norm(vect_A))\n",
    "\n",
    "# Sudut antara vektor A dan B\n",
    "cos_theta = (vect_A @ vect_B) / (np.linalg.norm(vect_A) * np.linalg.norm(vect_B))\n",
    "radian = np.arccos(cos_theta)\n",
    "sudut = np.degrees(radian)\n",
    "print('Sudut antara vektor A dan B : ', sudut)"
   ]
  }
 ],
 "metadata": {
  "kernelspec": {
   "display_name": "Python 3",
   "language": "python",
   "name": "python3"
  },
  "language_info": {
   "codemirror_mode": {
    "name": "ipython",
    "version": 3
   },
   "file_extension": ".py",
   "mimetype": "text/x-python",
   "name": "python",
   "nbconvert_exporter": "python",
   "pygments_lexer": "ipython3",
   "version": "3.11.2"
  },
  "orig_nbformat": 4
 },
 "nbformat": 4,
 "nbformat_minor": 2
}
