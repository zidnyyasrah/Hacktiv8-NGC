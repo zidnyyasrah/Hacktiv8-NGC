{
  "cells": [
    {
      "attachments": {},
      "cell_type": "markdown",
      "metadata": {
        "id": "eyvpyM0xHB2c"
      },
      "source": [
        "# **Non Graded Challenge - Functions**\n"
      ]
    },
    {
      "attachments": {},
      "cell_type": "markdown",
      "metadata": {
        "id": "7L3r5f-tLiqo"
      },
      "source": [
        "## Assignment Instructions"
      ]
    },
    {
      "attachments": {},
      "cell_type": "markdown",
      "metadata": {
        "id": "MAgnp0nvHMAM"
      },
      "source": [
        "* Membuat sebuah function untuk mengkonversi suhu dari kelvin ke celcius, dan sebaliknya\n",
        "* Membuat sebuah function untuk mengubah suhu ke fahrenheit, dengan parameter yang memastikan bahwa input merupakan celcius / kelvin\n",
        "* Membuat sebuah function untuk mengubah suhu dari fahrenheit, dengan memberikan argumen yang memastikan bahwa outputnya adalah celcius / kelvin\n",
        "* Berikan dokumentasi pada setiap baris kode\n"
      ]
    },
    {
      "attachments": {},
      "cell_type": "markdown",
      "metadata": {
        "id": "4MguHGifJTmp"
      },
      "source": [
        "### Ketentuan Konversi Suhu"
      ]
    },
    {
      "attachments": {},
      "cell_type": "markdown",
      "metadata": {
        "id": "D3kf9BglJZxJ"
      },
      "source": [
        "- Kelvin ke Celcius = K - 273\n",
        "- Celcius ke Kelvin = C + 273\n",
        "- Fahrenheit ke Celcius = (F-32) * 5/9\n",
        "- Celcius ke Fahrenheit = C(9/5) + 32\n",
        "- Fahrenheit ke Kelvin = (F-32) * 5/9 + 273\n",
        "- Kelvin ke Fahrenheit = (K - 273) * 9/5 + 32"
      ]
    },
    {
      "attachments": {},
      "cell_type": "markdown",
      "metadata": {
        "id": "ZV38dt2OIVyw"
      },
      "source": [
        "### **Problem Pertama** \n"
      ]
    },
    {
      "attachments": {},
      "cell_type": "markdown",
      "metadata": {
        "id": "1yVJSLsy2QUV"
      },
      "source": [
        "* **Membuat sebuah function untuk mengkonversi suhu dari kelvin ke celcius, dan sebaliknya**"
      ]
    },
    {
      "attachments": {},
      "cell_type": "markdown",
      "metadata": {
        "id": "RGLAtODc2gZH"
      },
      "source": [
        "Konversi suhu dari Kelvin ke Celcius\n"
      ]
    },
    {
      "cell_type": "code",
      "execution_count": 67,
      "metadata": {
        "id": "VEXgbcAhIn42"
      },
      "outputs": [],
      "source": [
        "def kelvin_ke_celcius(suhu):\n",
        "  \"\"\"\n",
        "  function untuk mengubah suhu kelvin ke celcius\n",
        "  \n",
        "  parameter:\n",
        "    suhu dalam bentuk kelvin\n",
        "  \n",
        "  return:\n",
        "    suhu dalam bentuk celcius\n",
        "  \"\"\"\n",
        "  \n",
        "  kelvin = suhu - 273\n",
        "  return kelvin"
      ]
    },
    {
      "cell_type": "code",
      "execution_count": 70,
      "metadata": {
        "colab": {
          "base_uri": "https://localhost:8080/"
        },
        "id": "Jl4hbm6iPaIN",
        "outputId": "b0369445-f44a-4fab-d2ab-e21ba7e9c240"
      },
      "outputs": [
        {
          "name": "stdout",
          "output_type": "stream",
          "text": [
            "Konversi dari 300 kelvin ke celcius adalah 27\n"
          ]
        }
      ],
      "source": [
        "suhu = 300\n",
        "konversi = kelvin_ke_celcius(suhu) \n",
        "\n",
        "print(f'Konversi dari {suhu} kelvin ke celcius adalah {konversi}')"
      ]
    },
    {
      "attachments": {},
      "cell_type": "markdown",
      "metadata": {
        "id": "tLnZHclZPt1L"
      },
      "source": [
        "\n",
        "Konversi suhu dari Celcius ke Kelvin\n"
      ]
    },
    {
      "cell_type": "code",
      "execution_count": 12,
      "metadata": {
        "id": "t33t7xTEPyMu"
      },
      "outputs": [],
      "source": [
        "def celcius_ke_kelvin(suhu):\n",
        "  \"\"\"\n",
        "  function untuk mengubah suhu celcius ke kelvin\n",
        "  \n",
        "  parameter:\n",
        "    suhu dalam bentuk celcius\n",
        "  \n",
        "  return:\n",
        "    suhu dalam bentuk kelvin\n",
        "  \"\"\"\n",
        "\n",
        "  celcius = suhu + 273\n",
        "  return celcius"
      ]
    },
    {
      "cell_type": "code",
      "execution_count": 71,
      "metadata": {
        "colab": {
          "base_uri": "https://localhost:8080/"
        },
        "id": "0gnoTf-7QaaY",
        "outputId": "cc7a81ea-fc4e-4bfd-8f31-1501e68ecce8"
      },
      "outputs": [
        {
          "name": "stdout",
          "output_type": "stream",
          "text": [
            "Konversi dari 300 celcius ke kelvin adalah 573\n"
          ]
        }
      ],
      "source": [
        "suhu = 300\n",
        "konversi = celcius_ke_kelvin(suhu) \n",
        "\n",
        "print(f'Konversi dari {suhu} celcius ke kelvin adalah {konversi}')"
      ]
    },
    {
      "attachments": {},
      "cell_type": "markdown",
      "metadata": {
        "id": "R3kWLll6QfwN"
      },
      "source": [
        "### **Problem Kedua**\n",
        "\n"
      ]
    },
    {
      "attachments": {},
      "cell_type": "markdown",
      "metadata": {
        "id": "B7oJ00YCT3mX"
      },
      "source": [
        "* **Membuat sebuah function untuk mengubah suhu ke fahrenheit, dengan parameter yang memastikan bahwa input merupakan celcius / kelvin**"
      ]
    },
    {
      "attachments": {},
      "cell_type": "markdown",
      "metadata": {
        "id": "F5-iBn2W2mZT"
      },
      "source": [
        "Konversi suhu ke Fahrenheit"
      ]
    },
    {
      "cell_type": "code",
      "execution_count": 78,
      "metadata": {
        "id": "V6of4MOOUAXb"
      },
      "outputs": [],
      "source": [
        "def suhu_ke_fahrenheit(suhu, satuan_suhu):\n",
        "  \"\"\"\n",
        "  function untuk mengubah suhu celcius dan kelvin ke fahrenheit\n",
        "  \n",
        "  parameter:\n",
        "    suhu, satuan suhu ('kelvin' atau 'celcius')\n",
        "  \n",
        "  return:\n",
        "    suhu yang dikonversi menjadi fahrenheit\n",
        "  \"\"\"\n",
        "  \n",
        "  # mengecek apakah satuan suhu merupakan celcius\n",
        "  if satuan_suhu == 'celcius':\n",
        "    suhu = int(suhu*(9/5)+32) \n",
        "    return suhu\n",
        "  # pengecekan kedua apakah satuan suhu merupakan kelvin\n",
        "  elif satuan_suhu == 'kelvin':\n",
        "    suhu = int((suhu-273)*9/5+32)\n",
        "    return suhu\n",
        "  # kondisi ketika satuan suhu yang dimasukkan salah\n",
        "  else :\n",
        "    print('Satuan yang dimasukkan tidak valid')"
      ]
    },
    {
      "cell_type": "code",
      "execution_count": 77,
      "metadata": {
        "colab": {
          "base_uri": "https://localhost:8080/"
        },
        "id": "PuOSVE64-4H_",
        "outputId": "65226ff2-ef66-4223-ae38-e2742370e177"
      },
      "outputs": [
        {
          "name": "stdout",
          "output_type": "stream",
          "text": [
            "Konversi dari 20 celcius ke fahrenheit adalah 68\n",
            "Konversi dari 300 kelvin ke fahrenheit adalah 80\n"
          ]
        }
      ],
      "source": [
        "suhu = 20\n",
        "satuan_suhu = 'celcius'\n",
        "konversi = suhu_ke_fahrenheit(suhu,satuan_suhu)\n",
        "print(f'Konversi dari {suhu} {satuan_suhu} ke fahrenheit adalah {konversi}')\n",
        "\n",
        "suhu = 300\n",
        "satuan_suhu = 'kelvin'\n",
        "konversi = suhu_ke_fahrenheit(suhu,satuan_suhu)\n",
        "print(f'Konversi dari {suhu} {satuan_suhu} ke fahrenheit adalah {konversi}')"
      ]
    },
    {
      "attachments": {},
      "cell_type": "markdown",
      "metadata": {
        "id": "Ot1NsjGH13bQ"
      },
      "source": [
        "### **Problem Ketiga**\n",
        "\n"
      ]
    },
    {
      "attachments": {},
      "cell_type": "markdown",
      "metadata": {
        "id": "H9jeA3Qv2Hfa"
      },
      "source": [
        "* **Membuat sebuah function untuk mengubah suhu dari fahrenheit, dengan memberikan argumen yang memastikan bahwa outputnya adalah celcius / kelvin**"
      ]
    },
    {
      "attachments": {},
      "cell_type": "markdown",
      "metadata": {
        "id": "5_IpB01V2qG_"
      },
      "source": [
        "Konversi Fahrenheit ke Celcius/Kelvin"
      ]
    },
    {
      "cell_type": "code",
      "execution_count": 65,
      "metadata": {
        "id": "OEb8hxUQ2AoC"
      },
      "outputs": [],
      "source": [
        "def fahrenheit_ke_suhu(suhu, suhu_awal):\n",
        "  \"\"\"\n",
        "  function untuk mengubah suhu fahrenheit ke suhu celcius/kelvin\n",
        "  \n",
        "  parameter:\n",
        "    suhu, suhu awal ('kelvin' atau 'celcius')\n",
        "  \n",
        "  return:\n",
        "    suhu fahrenheit yang dikonversi menjadi celcius/kelvin \n",
        "  \"\"\"\n",
        "  # mengecek apakah satuan suhu awalnya merupakan celcius\n",
        "  if suhu_awal == 'celcius':\n",
        "    suhu = int((suhu-32) * 5/9)\n",
        "    return suhu\n",
        "  # pengecekan kedua apakah satuan suhu awalnya merupakan kelvin\n",
        "  elif suhu_awal == 'kelvin':\n",
        "    suhu = int((suhu-32) * 5/9 + 273)\n",
        "    return suhu\n",
        "  # kondisi ketika satuan suhu yang dimasukkan salah\n",
        "  else :\n",
        "    print('Satuan yang dimasukkan tidak valid')"
      ]
    },
    {
      "cell_type": "code",
      "execution_count": 64,
      "metadata": {
        "colab": {
          "base_uri": "https://localhost:8080/"
        },
        "id": "-eAB46oc-vsT",
        "outputId": "46215a5d-293c-4274-9f95-3be0d318ecfa"
      },
      "outputs": [
        {
          "name": "stdout",
          "output_type": "stream",
          "text": [
            "Konversi dari 77 fahrenheit ke kelvin adalah 298\n",
            "Konversi dari 25 fahrenheit ke celcius adalah -3\n"
          ]
        }
      ],
      "source": [
        "suhu = 77\n",
        "suhu_awal = 'kelvin'\n",
        "konversi = fahrenheit_ke_suhu(suhu,suhu_awal)\n",
        "print(f'Konversi dari {suhu} fahrenheit ke {suhu_awal} adalah {konversi}')\n",
        "\n",
        "suhu = 25\n",
        "suhu_awal = 'celcius'\n",
        "konversi = fahrenheit_ke_suhu(suhu,suhu_awal)\n",
        "print(f'Konversi dari {suhu} fahrenheit ke {suhu_awal} adalah {konversi}')"
      ]
    }
  ],
  "metadata": {
    "colab": {
      "provenance": [],
      "toc_visible": true
    },
    "kernelspec": {
      "display_name": "Python 3",
      "name": "python3"
    },
    "language_info": {
      "name": "python"
    }
  },
  "nbformat": 4,
  "nbformat_minor": 0
}
