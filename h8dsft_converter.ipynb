{
  "nbformat": 4,
  "nbformat_minor": 0,
  "metadata": {
    "colab": {
      "provenance": [],
      "toc_visible": true
    },
    "kernelspec": {
      "name": "python3",
      "display_name": "Python 3"
    },
    "language_info": {
      "name": "python"
    }
  },
  "cells": [
    {
      "cell_type": "markdown",
      "source": [
        "# **Non Graded Challenge - Functions**\n"
      ],
      "metadata": {
        "id": "eyvpyM0xHB2c"
      }
    },
    {
      "cell_type": "markdown",
      "source": [
        "##Assignment Instructions"
      ],
      "metadata": {
        "id": "7L3r5f-tLiqo"
      }
    },
    {
      "cell_type": "markdown",
      "source": [
        "* Membuat sebuah function untuk mengkonversi suhu dari kelvin ke celcius, dan sebaliknya\n",
        "* Membuat sebuah function untuk mengubah suhu ke fahrenheit, dengan parameter yang memastikan bahwa input merupakan celcius / kelvin\n",
        "* Membuat sebuah function untuk mengubah suhu dari fahrenheit, dengan memberikan argumen yang memastikan bahwa outputnya adalah celcius / kelvin\n",
        "* Berikan dokumentasi pada setiap baris kode\n"
      ],
      "metadata": {
        "id": "MAgnp0nvHMAM"
      }
    },
    {
      "cell_type": "markdown",
      "source": [
        "### Ketentuan Konversi Suhu"
      ],
      "metadata": {
        "id": "4MguHGifJTmp"
      }
    },
    {
      "cell_type": "markdown",
      "source": [
        "- Kelvin ke Celcius = K - 273\n",
        "- Celcius ke Kelvin = C + 273\n",
        "- Fahrenheit ke Celcius = (F-32) * 5/9\n",
        "- Celcius ke Fahrenheit = C(9/5) + 32\n",
        "- Fahrenheit ke Kelvin = (F-32) * 5/9 + 273\n",
        "- Kelvin ke Fahrenheit = (K - 273) * 9/5 + 32"
      ],
      "metadata": {
        "id": "D3kf9BglJZxJ"
      }
    },
    {
      "cell_type": "markdown",
      "source": [
        "### **Problem Pertama** \n"
      ],
      "metadata": {
        "id": "ZV38dt2OIVyw"
      }
    },
    {
      "cell_type": "markdown",
      "source": [
        "* **Membuat sebuah function untuk mengkonversi suhu dari kelvin ke celcius, dan sebaliknya**"
      ],
      "metadata": {
        "id": "1yVJSLsy2QUV"
      }
    },
    {
      "cell_type": "markdown",
      "source": [
        "Konversi suhu dari Kelvin ke Celcius\n"
      ],
      "metadata": {
        "id": "RGLAtODc2gZH"
      }
    },
    {
      "cell_type": "code",
      "source": [
        "def kelvin_ke_celcius(suhu):\n",
        "  \"\"\"\n",
        "  function untuk mengubah suhu kelvin ke celcius\n",
        "  \n",
        "  parameter:\n",
        "    suhu dalam bentuk kelvin\n",
        "  \n",
        "  return:\n",
        "    suhu dalam bentuk celcius\n",
        "  \"\"\"\n",
        "  \n",
        "  kelvin = suhu - 273\n",
        "  return kelvin"
      ],
      "metadata": {
        "id": "VEXgbcAhIn42"
      },
      "execution_count": 67,
      "outputs": []
    },
    {
      "cell_type": "code",
      "source": [
        "suhu = 300\n",
        "konversi = kelvin_ke_celcius(suhu) \n",
        "\n",
        "print(f'Konversi dari {suhu} kelvin ke celcius adalah {konversi}')"
      ],
      "metadata": {
        "colab": {
          "base_uri": "https://localhost:8080/"
        },
        "id": "Jl4hbm6iPaIN",
        "outputId": "b0369445-f44a-4fab-d2ab-e21ba7e9c240"
      },
      "execution_count": 70,
      "outputs": [
        {
          "output_type": "stream",
          "name": "stdout",
          "text": [
            "Konversi dari 300 kelvin ke celcius adalah 27\n"
          ]
        }
      ]
    },
    {
      "cell_type": "markdown",
      "source": [
        "\n",
        "Konversi suhu dari Celcius ke Kelvin\n"
      ],
      "metadata": {
        "id": "tLnZHclZPt1L"
      }
    },
    {
      "cell_type": "code",
      "source": [
        "def celcius_ke_kelvin(suhu):\n",
        "  \"\"\"\n",
        "  function untuk mengubah suhu celcius ke kelvin\n",
        "  \n",
        "  parameter:\n",
        "    suhu dalam bentuk celcius\n",
        "  \n",
        "  return:\n",
        "    suhu dalam bentuk kelvin\n",
        "  \"\"\"\n",
        "\n",
        "  celcius = suhu + 273\n",
        "  return celcius"
      ],
      "metadata": {
        "id": "t33t7xTEPyMu"
      },
      "execution_count": 12,
      "outputs": []
    },
    {
      "cell_type": "code",
      "source": [
        "suhu = 300\n",
        "konversi = celcius_ke_kelvin(suhu) \n",
        "\n",
        "print(f'Konversi dari {suhu} celcius ke kelvin adalah {konversi}')"
      ],
      "metadata": {
        "colab": {
          "base_uri": "https://localhost:8080/"
        },
        "id": "0gnoTf-7QaaY",
        "outputId": "cc7a81ea-fc4e-4bfd-8f31-1501e68ecce8"
      },
      "execution_count": 71,
      "outputs": [
        {
          "output_type": "stream",
          "name": "stdout",
          "text": [
            "Konversi dari 300 celcius ke kelvin adalah 573\n"
          ]
        }
      ]
    },
    {
      "cell_type": "markdown",
      "source": [
        "### **Problem Kedua**\n",
        "\n"
      ],
      "metadata": {
        "id": "R3kWLll6QfwN"
      }
    },
    {
      "cell_type": "markdown",
      "source": [
        "* **Membuat sebuah function untuk mengubah suhu ke fahrenheit, dengan parameter yang memastikan bahwa input merupakan celcius / kelvin**"
      ],
      "metadata": {
        "id": "B7oJ00YCT3mX"
      }
    },
    {
      "cell_type": "markdown",
      "source": [
        "Konversi suhu ke Fahrenheit"
      ],
      "metadata": {
        "id": "F5-iBn2W2mZT"
      }
    },
    {
      "cell_type": "code",
      "source": [
        "def suhu_ke_fahrenheit(suhu, satuan_suhu):\n",
        "  \"\"\"\n",
        "  function untuk mengubah suhu celcius dan kelvin ke fahrenheit\n",
        "  \n",
        "  parameter:\n",
        "    suhu, satuan suhu ('kelvin' atau 'celcius')\n",
        "  \n",
        "  return:\n",
        "    suhu yang dikonversi menjadi fahrenheit\n",
        "  \"\"\"\n",
        "  \n",
        "  # mengecek apakah satuan suhu merupakan celcius\n",
        "  if satuan_suhu == 'celcius':\n",
        "    suhu = int(suhu*(9/5)+32) \n",
        "    return suhu\n",
        "  # pengecekan kedua apakah satuan suhu merupakan kelvin\n",
        "  elif satuan_suhu == 'kelvin':\n",
        "    suhu = int((suhu-273)*9/5+32)\n",
        "    return suhu\n",
        "  # kondisi ketika satuan suhu yang dimasukkan salah\n",
        "  else :\n",
        "    print('Satuan yang dimasukkan tidak valid')"
      ],
      "metadata": {
        "id": "V6of4MOOUAXb"
      },
      "execution_count": 78,
      "outputs": []
    },
    {
      "cell_type": "code",
      "source": [
        "suhu = 20\n",
        "satuan_suhu = 'celcius'\n",
        "konversi = suhu_ke_fahrenheit(suhu,satuan_suhu)\n",
        "print(f'Konversi dari {suhu} {satuan_suhu} ke fahrenheit adalah {konversi}')\n",
        "\n",
        "suhu = 300\n",
        "satuan_suhu = 'kelvin'\n",
        "konversi = suhu_ke_fahrenheit(suhu,satuan_suhu)\n",
        "print(f'Konversi dari {suhu} {satuan_suhu} ke fahrenheit adalah {konversi}')"
      ],
      "metadata": {
        "colab": {
          "base_uri": "https://localhost:8080/"
        },
        "id": "PuOSVE64-4H_",
        "outputId": "65226ff2-ef66-4223-ae38-e2742370e177"
      },
      "execution_count": 77,
      "outputs": [
        {
          "output_type": "stream",
          "name": "stdout",
          "text": [
            "Konversi dari 20 celcius ke fahrenheit adalah 68\n",
            "Konversi dari 300 kelvin ke fahrenheit adalah 80\n"
          ]
        }
      ]
    },
    {
      "cell_type": "markdown",
      "source": [
        "### **Problem Ketiga**\n",
        "\n"
      ],
      "metadata": {
        "id": "Ot1NsjGH13bQ"
      }
    },
    {
      "cell_type": "markdown",
      "source": [
        "* **Membuat sebuah function untuk mengubah suhu dari fahrenheit, dengan memberikan argumen yang memastikan bahwa outputnya adalah celcius / kelvin**"
      ],
      "metadata": {
        "id": "H9jeA3Qv2Hfa"
      }
    },
    {
      "cell_type": "markdown",
      "source": [
        "Konversi Fahrenheit ke Celcius/Kelvin"
      ],
      "metadata": {
        "id": "5_IpB01V2qG_"
      }
    },
    {
      "cell_type": "code",
      "source": [
        "def fahrenheit_ke_suhu(suhu, suhu_awal):\n",
        "  \"\"\"\n",
        "  function untuk mengubah suhu fahrenheit ke suhu celcius/kelvin\n",
        "  \n",
        "  parameter:\n",
        "    suhu, suhu awal ('kelvin' atau 'celcius')\n",
        "  \n",
        "  return:\n",
        "    suhu fahrenheit yang dikonversi menjadi celcius/kelvin \n",
        "  \"\"\"\n",
        "  # mengecek apakah satuan suhu awalnya merupakan celcius\n",
        "  if suhu_awal == 'celcius':\n",
        "    suhu = int((suhu-32) * 5/9)\n",
        "    return suhu\n",
        "  # pengecekan kedua apakah satuan suhu awalnya merupakan kelvin\n",
        "  elif suhu_awal == 'kelvin':\n",
        "    suhu = int((suhu-32) * 5/9 + 273)\n",
        "    return suhu\n",
        "  # kondisi ketika satuan suhu yang dimasukkan salah\n",
        "  else :\n",
        "    print('Satuan yang dimasukkan tidak valid')"
      ],
      "metadata": {
        "id": "OEb8hxUQ2AoC"
      },
      "execution_count": 65,
      "outputs": []
    },
    {
      "cell_type": "code",
      "source": [
        "suhu = 77\n",
        "suhu_awal = 'kelvin'\n",
        "konversi = fahrenheit_ke_suhu(suhu,suhu_awal)\n",
        "print(f'Konversi dari {suhu} fahrenheit ke {suhu_awal} adalah {konversi}')\n",
        "\n",
        "suhu = 25\n",
        "suhu_awal = 'celcius'\n",
        "konversi = fahrenheit_ke_suhu(suhu,suhu_awal)\n",
        "print(f'Konversi dari {suhu} fahrenheit ke {suhu_awal} adalah {konversi}')"
      ],
      "metadata": {
        "colab": {
          "base_uri": "https://localhost:8080/"
        },
        "id": "-eAB46oc-vsT",
        "outputId": "46215a5d-293c-4274-9f95-3be0d318ecfa"
      },
      "execution_count": 64,
      "outputs": [
        {
          "output_type": "stream",
          "name": "stdout",
          "text": [
            "Konversi dari 77 fahrenheit ke kelvin adalah 298\n",
            "Konversi dari 25 fahrenheit ke celcius adalah -3\n"
          ]
        }
      ]
    }
  ]
}