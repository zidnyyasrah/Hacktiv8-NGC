{
  "nbformat": 4,
  "nbformat_minor": 0,
  "metadata": {
    "colab": {
      "provenance": []
    },
    "kernelspec": {
      "name": "python3",
      "display_name": "Python 3"
    },
    "language_info": {
      "name": "python"
    }
  },
  "cells": [
    {
      "cell_type": "markdown",
      "source": [
        "# **Non Graded Challenge - Conditions & Loops**"
      ],
      "metadata": {
        "id": "AsBoSvimK52_"
      }
    },
    {
      "cell_type": "markdown",
      "source": [
        "##Assignment Instructions"
      ],
      "metadata": {
        "id": "zYm04kXyMDVq"
      }
    },
    {
      "cell_type": "markdown",
      "source": [
        "* Membuat sebuah list dengan value `numbers = [951, 402, 984, 651, 360, 69, 408, \n",
        "319, 601, 485, 980, 507, 725, 547, 544, 615, \n",
        "83, 165, 141, 501, 263, 617, 865, 575, 219, \n",
        "390, 984, 592, 236, 105, 942, 941, 386, 462, \n",
        "47, 418, 907, 344, 236, 375, 823, 566, 597, \n",
        "978, 328, 615, 953, 345, 399, 162, 758, 219, \n",
        "918, 237, 412, 566, 826, 248, 866, 950, 626, \n",
        "949]`\n",
        "\n",
        "* Loop dan print semua angka genap tanpa mengubah urutan\n",
        "\n",
        "* Jangan mencetak apapun setelah angka `918` berdasarkan urutan awal\n",
        "\n",
        "* Tampilkan pesan `\"Done\"` setelah looping berakhir"
      ],
      "metadata": {
        "id": "M6L8VOxIMET5"
      }
    },
    {
      "cell_type": "markdown",
      "source": [
        "###Answer"
      ],
      "metadata": {
        "id": "z6lO2Xq3Ms3-"
      }
    },
    {
      "cell_type": "markdown",
      "source": [
        "### Membuat sebuah list `numbers`\n",
        "dengan value seperti di instruksi\n"
      ],
      "metadata": {
        "id": "x9UdzMuqM3f5"
      }
    },
    {
      "cell_type": "code",
      "source": [
        "numbers = [951, 402, 984, 651, 360, 69, 408, \n",
        "319, 601, 485, 980, 507, 725, 547, 544, 615, \n",
        "83, 165, 141, 501, 263, 617, 865, 575, 219, \n",
        "390, 984, 592, 236, 105, 942, 941, 386, 462, \n",
        "47, 418, 907, 344, 236, 375, 823, 566, 597, \n",
        "978, 328, 615, 953, 345, 399, 162, 758, 219, \n",
        "918, 237, 412, 566, 826, 248, 866, 950, 626, \n",
        "949]\n"
      ],
      "metadata": {
        "id": "weZTZeCXMu_a"
      },
      "execution_count": 4,
      "outputs": []
    },
    {
      "cell_type": "markdown",
      "source": [
        "### Code program sesuai instruksi dari point 2 ke 4"
      ],
      "metadata": {
        "id": "dFSLSibXNHoJ"
      }
    },
    {
      "cell_type": "code",
      "source": [
        "for i in numbers: \n",
        "    if i % 2 == 0 : # melakukan pembagian modulus dimana jika angka habis dibagi 0 (genap) maka akan diprint\n",
        "        print(i) \n",
        "    if i == 918: # kondisi dimana index i sudah mencapai angka 918\n",
        "        break # menghentikan loop ketika kondisi tercapai\n",
        "\n",
        "print('Done') # memberikan pesan done ketika program sudah selesai / keluar dari loop"
      ],
      "metadata": {
        "colab": {
          "base_uri": "https://localhost:8080/"
        },
        "id": "RIexUT_jNQWT",
        "outputId": "e20e486b-27e4-4c66-d3e6-75cd7021d42d"
      },
      "execution_count": 5,
      "outputs": [
        {
          "output_type": "stream",
          "name": "stdout",
          "text": [
            "402\n",
            "984\n",
            "360\n",
            "408\n",
            "980\n",
            "544\n",
            "390\n",
            "984\n",
            "592\n",
            "236\n",
            "942\n",
            "386\n",
            "462\n",
            "418\n",
            "344\n",
            "236\n",
            "566\n",
            "978\n",
            "328\n",
            "162\n",
            "758\n",
            "918\n",
            "Done\n"
          ]
        }
      ]
    }
  ]
}